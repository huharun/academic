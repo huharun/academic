{
 "cells": [
  {
   "cell_type": "code",
   "execution_count": 2,
   "metadata": {},
   "outputs": [],
   "source": [
    "import mysql.connector\n",
    "from mysql.connector import Error\n",
    "import pandas as pd"
   ]
  },
  {
   "cell_type": "code",
   "execution_count": 11,
   "metadata": {},
   "outputs": [
    {
     "name": "stdout",
     "output_type": "stream",
     "text": [
      "Mysql Database connection Successful\n"
     ]
    }
   ],
   "source": [
    "def create_server_connection(host_name, user_name, user_password):\n",
    "    connection = None\n",
    "    try:\n",
    "        connection=mysql.connector.connect(\n",
    "            host=host_name,\n",
    "            user=user_name,\n",
    "            passwd=user_password\n",
    "        )\n",
    "        print(\"Mysql Database connection Successful\")\n",
    "    except Error as err:\n",
    "        print(f\"Error:'{err}'\")\n",
    "    return connection\n",
    "    \n",
    "              \n",
    "pw = \"arun\"\n",
    "\n",
    "              \n",
    "db = \"mysql_python\"\n",
    "connection = create_server_connection(\"localhost\",\"root\",pw)              "
   ]
  },
  {
   "cell_type": "code",
   "execution_count": 14,
   "metadata": {},
   "outputs": [
    {
     "name": "stdout",
     "output_type": "stream",
     "text": [
      "Errot:'1007 (HY000): Can't create database 'mysql_python'; database exists'\n"
     ]
    }
   ],
   "source": [
    "def create_database(connection, query):\n",
    "    cursor = connection.cursor()\n",
    "    try:\n",
    "        cursor.execute(query)\n",
    "        print(\"Database created successfully\")\n",
    "    except Error as err:\n",
    "        print(f\"Errot:'{err}'\")\n",
    "create_database_query = \"Create database mysql_python\"\n",
    "create_database(connection,create_database_query)"
   ]
  },
  {
   "cell_type": "code",
   "execution_count": null,
   "metadata": {},
   "outputs": [],
   "source": []
  },
  {
   "cell_type": "code",
   "execution_count": 16,
   "metadata": {},
   "outputs": [],
   "source": [
    "def create_db_connection (host_name, user_name,user_password, db_name):\n",
    "    connection=None\n",
    "    try:\n",
    "        connection = mysql.connector.connect(\n",
    "            host =host_name,\n",
    "            user=user_name,\n",
    "            passwd = user_password,\n",
    "            database = db_name)\n",
    "        print(\"Mysql db connection successful\")\n",
    "    except Error as err:\n",
    "        print (f\"Error: {err}'\")\n",
    "    return connection"
   ]
  },
  {
   "cell_type": "code",
   "execution_count": 19,
   "metadata": {},
   "outputs": [],
   "source": [
    "def execute_query(connection, query):\n",
    "    cursor = connection.cursor()\n",
    "    try:\n",
    "        cursor.execute(query) \n",
    "        connection.commit()\n",
    "        print(\"Query was successful\")\n",
    "    except Error as err:\n",
    "        print (f\"Error: '{err}'\")"
   ]
  },
  {
   "cell_type": "code",
   "execution_count": 21,
   "metadata": {},
   "outputs": [
    {
     "name": "stdout",
     "output_type": "stream",
     "text": [
      "Mysql db connection successful\n",
      "Query was successful\n"
     ]
    }
   ],
   "source": [
    "create_orders_table = \"\"\"\n",
    "create table orders ( \n",
    "order_id int primary key, \n",
    "customer_name varchar(30) not null, \n",
    "product_name varchar(20) not null, \n",
    "date_ordered date, quantity int, \n",
    "unit_price float, \n",
    "phone_number varchar(20));\n",
    "\"\"\"\n",
    "connection = create_db_connection(\"localhost\",\"root\",pw,db)\n",
    "execute_query(connection,create_orders_table)"
   ]
  },
  {
   "cell_type": "code",
   "execution_count": 27,
   "metadata": {},
   "outputs": [
    {
     "name": "stdout",
     "output_type": "stream",
     "text": [
      "Mysql db connection successful\n",
      "Query was successful\n"
     ]
    }
   ],
   "source": [
    "data_orders = \"\"\"\n",
    "insert into orders values\n",
    "(101, 'Steve', 'Laptop', '2018-06-12', 2, 800, '293730802'), \n",
    "(102,'Jos','Books', '2019-02-10', 10, 12, '367489124'), \n",
    "(103, 'Stacy', 'Trousers','19-12-25', 5, 50, '8976123645'), \n",
    "(184,'Nancy','T-Shirts', '2018-07-1', 7, 30, '368145099'), \n",
    "(105, 'Maria', 'Headphones', '2019-05-30', 6, 48, '8865316698'), \n",
    "(186, 'Danny', 'Smart TV', '2018-08-2', 10, 300,'7720130449');\n",
    "\"\"\"\n",
    "connection = create_db_connection(\"localhost\",\"root\",pw,db)\n",
    "execute_query(connection,data_orders)"
   ]
  },
  {
   "cell_type": "code",
   "execution_count": 28,
   "metadata": {},
   "outputs": [],
   "source": [
    "def read_query(connection, query):\n",
    "    cursor = connection.cursor() \n",
    "    result = None\n",
    "    try:\n",
    "        cursor.execute(query) \n",
    "        result = cursor.fetchall() \n",
    "        return result \n",
    "    except Error as err: \n",
    "        print (f\"Error: '{err}'\")"
   ]
  },
  {
   "cell_type": "code",
   "execution_count": 29,
   "metadata": {},
   "outputs": [
    {
     "name": "stdout",
     "output_type": "stream",
     "text": [
      "Mysql db connection successful\n",
      "(101, 'Steve', 'Laptop', datetime.date(2018, 6, 12), 2, 800.0, '293730802')\n",
      "(102, 'Jos', 'Books', datetime.date(2019, 2, 10), 10, 12.0, '367489124')\n",
      "(103, 'Stacy', 'Trousers', datetime.date(2019, 12, 25), 5, 50.0, '8976123645')\n",
      "(105, 'Maria', 'Headphones', datetime.date(2019, 5, 30), 6, 48.0, '8865316698')\n",
      "(184, 'Nancy', 'T-Shirts', datetime.date(2018, 7, 1), 7, 30.0, '368145099')\n",
      "(186, 'Danny', 'Smart TV', datetime.date(2018, 8, 2), 10, 300.0, '7720130449')\n"
     ]
    }
   ],
   "source": [
    "q1=\"\"\"\n",
    "select * from orders;\n",
    "\"\"\"\n",
    "connection = create_db_connection(\"localhost\",\"root\",pw,db)\n",
    "results=read_query(connection,q1)\n",
    "for result in results:\n",
    "    print(result)"
   ]
  },
  {
   "cell_type": "code",
   "execution_count": 31,
   "metadata": {},
   "outputs": [
    {
     "name": "stdout",
     "output_type": "stream",
     "text": [
      "Mysql db connection successful\n",
      "(2018,)\n",
      "(2019,)\n",
      "(2019,)\n",
      "(2019,)\n",
      "(2018,)\n",
      "(2018,)\n"
     ]
    }
   ],
   "source": [
    "q3=\"\"\"\n",
    "select year(date_ordered) from orders;\n",
    "\"\"\"\n",
    "connection = create_db_connection(\"localhost\",\"root\",pw,db)\n",
    "results=read_query(connection,q3)\n",
    "for result in results:\n",
    "    print(result)"
   ]
  },
  {
   "cell_type": "code",
   "execution_count": 35,
   "metadata": {},
   "outputs": [
    {
     "name": "stdout",
     "output_type": "stream",
     "text": [
      "Mysql db connection successful\n",
      "(101, 'Steve', 'Laptop', datetime.date(2018, 6, 12), 2, 800.0, '293730802')\n",
      "(102, 'Jos', 'Books', datetime.date(2019, 2, 10), 10, 12.0, '367489124')\n",
      "(103, 'Stacy', 'Trousers', datetime.date(2019, 12, 25), 5, 50.0, '8976123645')\n",
      "(105, 'Maria', 'Headphones', datetime.date(2019, 5, 30), 6, 48.0, '8865316698')\n",
      "(184, 'Nancy', 'T-Shirts', datetime.date(2018, 7, 1), 7, 30.0, '368145099')\n",
      "(186, 'Danny', 'Smart TV', datetime.date(2018, 8, 2), 10, 300.0, '7720130449')\n"
     ]
    }
   ],
   "source": [
    "q5=\"\"\"\n",
    "select * from orders where date_ordered > 2018-12-31;\n",
    "\"\"\"\n",
    "connection = create_db_connection(\"localhost\",\"root\",pw,db)\n",
    "results=read_query(connection,q5)\n",
    "for result in results:\n",
    "    print(result)"
   ]
  },
  {
   "cell_type": "code",
   "execution_count": 36,
   "metadata": {},
   "outputs": [
    {
     "name": "stdout",
     "output_type": "stream",
     "text": [
      "Mysql db connection successful\n",
      "(102, 'Jos', 'Books', datetime.date(2019, 2, 10), 10, 12.0, '367489124')\n",
      "(184, 'Nancy', 'T-Shirts', datetime.date(2018, 7, 1), 7, 30.0, '368145099')\n",
      "(105, 'Maria', 'Headphones', datetime.date(2019, 5, 30), 6, 48.0, '8865316698')\n",
      "(103, 'Stacy', 'Trousers', datetime.date(2019, 12, 25), 5, 50.0, '8976123645')\n",
      "(186, 'Danny', 'Smart TV', datetime.date(2018, 8, 2), 10, 300.0, '7720130449')\n",
      "(101, 'Steve', 'Laptop', datetime.date(2018, 6, 12), 2, 800.0, '293730802')\n"
     ]
    }
   ],
   "source": [
    "q7=\"\"\"\n",
    "select * from orders order by unit_price;\n",
    "\"\"\"\n",
    "connection = create_db_connection(\"localhost\",\"root\",pw,db)\n",
    "results=read_query(connection,q7)\n",
    "for result in results:\n",
    "    print(result)"
   ]
  },
  {
   "cell_type": "code",
   "execution_count": 38,
   "metadata": {
    "scrolled": true
   },
   "outputs": [
    {
     "data": {
      "text/html": [
       "<div>\n",
       "<style scoped>\n",
       "    .dataframe tbody tr th:only-of-type {\n",
       "        vertical-align: middle;\n",
       "    }\n",
       "\n",
       "    .dataframe tbody tr th {\n",
       "        vertical-align: top;\n",
       "    }\n",
       "\n",
       "    .dataframe thead th {\n",
       "        text-align: right;\n",
       "    }\n",
       "</style>\n",
       "<table border=\"1\" class=\"dataframe\">\n",
       "  <thead>\n",
       "    <tr style=\"text-align: right;\">\n",
       "      <th></th>\n",
       "      <th>order_id</th>\n",
       "      <th>customer_name</th>\n",
       "      <th>product_name</th>\n",
       "      <th>date_ordered</th>\n",
       "      <th>quantity</th>\n",
       "      <th>unit_price</th>\n",
       "      <th>phone_number</th>\n",
       "    </tr>\n",
       "  </thead>\n",
       "  <tbody>\n",
       "    <tr>\n",
       "      <th>0</th>\n",
       "      <td>102</td>\n",
       "      <td>Jos</td>\n",
       "      <td>Books</td>\n",
       "      <td>2019-02-10</td>\n",
       "      <td>10</td>\n",
       "      <td>12.0</td>\n",
       "      <td>367489124</td>\n",
       "    </tr>\n",
       "    <tr>\n",
       "      <th>1</th>\n",
       "      <td>184</td>\n",
       "      <td>Nancy</td>\n",
       "      <td>T-Shirts</td>\n",
       "      <td>2018-07-01</td>\n",
       "      <td>7</td>\n",
       "      <td>30.0</td>\n",
       "      <td>368145099</td>\n",
       "    </tr>\n",
       "    <tr>\n",
       "      <th>2</th>\n",
       "      <td>105</td>\n",
       "      <td>Maria</td>\n",
       "      <td>Headphones</td>\n",
       "      <td>2019-05-30</td>\n",
       "      <td>6</td>\n",
       "      <td>48.0</td>\n",
       "      <td>8865316698</td>\n",
       "    </tr>\n",
       "    <tr>\n",
       "      <th>3</th>\n",
       "      <td>103</td>\n",
       "      <td>Stacy</td>\n",
       "      <td>Trousers</td>\n",
       "      <td>2019-12-25</td>\n",
       "      <td>5</td>\n",
       "      <td>50.0</td>\n",
       "      <td>8976123645</td>\n",
       "    </tr>\n",
       "    <tr>\n",
       "      <th>4</th>\n",
       "      <td>186</td>\n",
       "      <td>Danny</td>\n",
       "      <td>Smart TV</td>\n",
       "      <td>2018-08-02</td>\n",
       "      <td>10</td>\n",
       "      <td>300.0</td>\n",
       "      <td>7720130449</td>\n",
       "    </tr>\n",
       "    <tr>\n",
       "      <th>5</th>\n",
       "      <td>101</td>\n",
       "      <td>Steve</td>\n",
       "      <td>Laptop</td>\n",
       "      <td>2018-06-12</td>\n",
       "      <td>2</td>\n",
       "      <td>800.0</td>\n",
       "      <td>293730802</td>\n",
       "    </tr>\n",
       "  </tbody>\n",
       "</table>\n",
       "</div>"
      ],
      "text/plain": [
       "   order_id customer_name product_name date_ordered  quantity  unit_price  \\\n",
       "0       102           Jos        Books   2019-02-10        10        12.0   \n",
       "1       184         Nancy     T-Shirts   2018-07-01         7        30.0   \n",
       "2       105         Maria   Headphones   2019-05-30         6        48.0   \n",
       "3       103         Stacy     Trousers   2019-12-25         5        50.0   \n",
       "4       186         Danny     Smart TV   2018-08-02        10       300.0   \n",
       "5       101         Steve       Laptop   2018-06-12         2       800.0   \n",
       "\n",
       "  phone_number  \n",
       "0    367489124  \n",
       "1    368145099  \n",
       "2   8865316698  \n",
       "3   8976123645  \n",
       "4   7720130449  \n",
       "5    293730802  "
      ]
     },
     "metadata": {},
     "output_type": "display_data"
    }
   ],
   "source": [
    "from_db = []\n",
    "\n",
    "for result in results:\n",
    "    result = list (result)\n",
    "    from_db.append(result) \n",
    "columns = [\"order_id\", \"customer_name\", \"product_name\", \"date_ordered\", \"quantity\",\"unit_price\", \"phone_number\"]\n",
    "\n",
    "df = pd.DataFrame (from_db, columns = columns)\n",
    "\n",
    "display (df)"
   ]
  },
  {
   "cell_type": "code",
   "execution_count": 39,
   "metadata": {},
   "outputs": [
    {
     "name": "stdout",
     "output_type": "stream",
     "text": [
      "Mysql db connection successful\n",
      "Query was successful\n"
     ]
    }
   ],
   "source": [
    "delete_order =\"\"\"\n",
    "delete from orders\n",
    "where order_id =105;\n",
    "\"\"\"\n",
    "connection = create_db_connection(\"localhost\",\"root\",pw,db)\n",
    "execute_query(connection,delete_order)"
   ]
  },
  {
   "cell_type": "code",
   "execution_count": 40,
   "metadata": {},
   "outputs": [
    {
     "name": "stdout",
     "output_type": "stream",
     "text": [
      "Mysql db connection successful\n",
      "(101, 'Steve', 'Laptop', datetime.date(2018, 6, 12), 2, 800.0, '293730802')\n",
      "(102, 'Jos', 'Books', datetime.date(2019, 2, 10), 10, 12.0, '367489124')\n",
      "(103, 'Stacy', 'Trousers', datetime.date(2019, 12, 25), 5, 50.0, '8976123645')\n",
      "(184, 'Nancy', 'T-Shirts', datetime.date(2018, 7, 1), 7, 30.0, '368145099')\n",
      "(186, 'Danny', 'Smart TV', datetime.date(2018, 8, 2), 10, 300.0, '7720130449')\n"
     ]
    }
   ],
   "source": [
    "q9=\"\"\"\n",
    "select * from orders;\n",
    "\"\"\"\n",
    "connection = create_db_connection(\"localhost\",\"root\",pw,db)\n",
    "results=read_query(connection,q9)\n",
    "for result in results:\n",
    "    print(result)"
   ]
  },
  {
   "cell_type": "code",
   "execution_count": null,
   "metadata": {},
   "outputs": [],
   "source": []
  }
 ],
 "metadata": {
  "kernelspec": {
   "display_name": "Python 3",
   "language": "python",
   "name": "python3"
  },
  "language_info": {
   "codemirror_mode": {
    "name": "ipython",
    "version": 3
   },
   "file_extension": ".py",
   "mimetype": "text/x-python",
   "name": "python",
   "nbconvert_exporter": "python",
   "pygments_lexer": "ipython3",
   "version": "3.7.3"
  }
 },
 "nbformat": 4,
 "nbformat_minor": 2
}
